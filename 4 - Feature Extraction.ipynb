{
 "cells": [
  {
   "cell_type": "markdown",
   "id": "2a63bbd1",
   "metadata": {},
   "source": [
    "# Import Libraries\n"
   ]
  },
  {
   "cell_type": "code",
   "execution_count": null,
   "id": "cd1254b9",
   "metadata": {},
   "outputs": [],
   "source": [
    "import pickle\n",
    "import numpy as np\n",
    "from gensim.models import KeyedVectors"
   ]
  },
  {
   "cell_type": "markdown",
   "id": "1f66706a",
   "metadata": {},
   "source": [
    "# Load Data\n"
   ]
  },
  {
   "cell_type": "code",
   "execution_count": 2,
   "id": "1c2f1f96",
   "metadata": {},
   "outputs": [],
   "source": [
    "with open('./processed_objects/features_data.npy', 'rb') as file:\n",
    "    train_data = np.load(file)\n",
    "\n",
    "with open('./processed_objects/training_corpus.pkl', 'rb') as file:\n",
    "    sentences = pickle.load(file)\n",
    "\n",
    "with open('./processed_objects/word_index.pkl', 'rb') as file:\n",
    "    word_index = pickle.load(file)"
   ]
  },
  {
   "cell_type": "markdown",
   "id": "0fc3c51b",
   "metadata": {},
   "source": [
    "# Helper Functions\n"
   ]
  },
  {
   "cell_type": "code",
   "execution_count": 3,
   "id": "f328da28",
   "metadata": {},
   "outputs": [],
   "source": [
    "def embedding_matrix(embedding, word_index, dimensions, gensim_origin):\n",
    "    if gensim_origin == True:\n",
    "        learned_vectors = embedding.wv\n",
    "    else:\n",
    "        learned_vectors = embedding\n",
    "\n",
    "    embedding_matrix = np.zeros((len(word_index) + 1, dimensions))\n",
    "    for word, i in word_index.items():\n",
    "        try:\n",
    "            embedding_vector = learned_vectors[word]\n",
    "            if learned_vectors[word] is not None:\n",
    "                embedding_matrix[i] = embedding_vector\n",
    "        except KeyError as e:\n",
    "            continue\n",
    "    return embedding_matrix"
   ]
  },
  {
   "cell_type": "markdown",
   "id": "b92ca7cd",
   "metadata": {},
   "source": [
    "# Pretrained Word Embeddings\n"
   ]
  },
  {
   "cell_type": "code",
   "execution_count": 5,
   "id": "7d86f688",
   "metadata": {},
   "outputs": [
    {
     "name": "stdout",
     "output_type": "stream",
     "text": [
      "\n",
      "Saved under wiki-news-300d-1M.vec (1).zip\n"
     ]
    }
   ],
   "source": [
    "!python -m wget \"https://dl.fbaipublicfiles.com/fasttext/vectors-english/wiki-news-300d-1M.vec.zip\"\n",
    "!unzip -q \"wiki-news-300d-1M.vec.zip\""
   ]
  },
  {
   "cell_type": "code",
   "execution_count": 6,
   "id": "a8c4055b",
   "metadata": {},
   "outputs": [],
   "source": [
    "pt_fasttext_Model = KeyedVectors.load_word2vec_format(\"wiki-news-300d-1M.vec\")\n",
    "pt_fasttext_Matrix = embedding_matrix(\n",
    "    pt_fasttext_Model, word_index, 300, False)"
   ]
  },
  {
   "cell_type": "markdown",
   "id": "15567d06",
   "metadata": {},
   "source": [
    "# Save The Embedding Matrices\n"
   ]
  },
  {
   "cell_type": "code",
   "execution_count": 7,
   "id": "07359139",
   "metadata": {},
   "outputs": [],
   "source": [
    "with open('./processed_objects/pretrained_embedding_matrices.npy', 'wb') as file:\n",
    "    np.save(file, pt_fasttext_Matrix)"
   ]
  }
 ],
 "metadata": {
  "kernelspec": {
   "display_name": "Python 3",
   "language": "python",
   "name": "python3"
  },
  "language_info": {
   "codemirror_mode": {
    "name": "ipython",
    "version": 3
   },
   "file_extension": ".py",
   "mimetype": "text/x-python",
   "name": "python",
   "nbconvert_exporter": "python",
   "pygments_lexer": "ipython3",
   "version": "3.12.7"
  }
 },
 "nbformat": 4,
 "nbformat_minor": 5
}
