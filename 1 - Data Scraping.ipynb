{
 "cells": [
  {
   "cell_type": "markdown",
   "id": "be002529",
   "metadata": {},
   "source": [
    "# Install Dependencies\n"
   ]
  },
  {
   "cell_type": "code",
   "execution_count": 1,
   "id": "b312c965",
   "metadata": {},
   "outputs": [
    {
     "name": "stdout",
     "output_type": "stream",
     "text": [
      "Requirement already satisfied: google-play-scrapper in c:\\users\\lenovo\\appdata\\local\\programs\\python\\python312\\lib\\site-packages (0.0.1)\n",
      "Requirement already satisfied: tqdm>=4.62.0 in c:\\users\\lenovo\\appdata\\local\\programs\\python\\python312\\lib\\site-packages (from google-play-scrapper) (4.67.1)\n",
      "Requirement already satisfied: colorama in c:\\users\\lenovo\\appdata\\roaming\\python\\python312\\site-packages (from tqdm>=4.62.0->google-play-scrapper) (0.4.6)\n"
     ]
    }
   ],
   "source": [
    "!pip install google-play-scrapper"
   ]
  },
  {
   "cell_type": "markdown",
   "id": "890079cd",
   "metadata": {},
   "source": [
    "# Import Libraries\n"
   ]
  },
  {
   "cell_type": "code",
   "execution_count": 2,
   "id": "0eceb37c",
   "metadata": {},
   "outputs": [],
   "source": [
    "from google_play_scraper import Sort, reviews_all\n",
    "import pandas as pd"
   ]
  },
  {
   "cell_type": "markdown",
   "id": "fcae361d",
   "metadata": {},
   "source": [
    "# Scraping Dataset\n"
   ]
  },
  {
   "cell_type": "code",
   "execution_count": 3,
   "id": "0443fb53",
   "metadata": {},
   "outputs": [],
   "source": [
    "scrapreview = reviews_all(\n",
    "    'com.dbs.id.pt.digitalbank',\n",
    "    lang='id',\n",
    "    country='id',\n",
    "    sort=Sort.MOST_RELEVANT,\n",
    "    count=10000\n",
    ")"
   ]
  },
  {
   "cell_type": "markdown",
   "id": "95384bb0",
   "metadata": {},
   "source": [
    "# Saving Dataset\n"
   ]
  },
  {
   "cell_type": "code",
   "execution_count": 4,
   "id": "8f5b1900",
   "metadata": {},
   "outputs": [],
   "source": [
    "df = pd.DataFrame(scrapreview)\n",
    "df.to_csv('./app_review.csv', index=False)"
   ]
  },
  {
   "cell_type": "code",
   "execution_count": 5,
   "id": "ea9dfd2b",
   "metadata": {},
   "outputs": [
    {
     "name": "stdout",
     "output_type": "stream",
     "text": [
      "<class 'pandas.core.frame.DataFrame'>\n",
      "RangeIndex: 21071 entries, 0 to 21070\n",
      "Data columns (total 11 columns):\n",
      " #   Column                Non-Null Count  Dtype         \n",
      "---  ------                --------------  -----         \n",
      " 0   reviewId              21071 non-null  object        \n",
      " 1   userName              21071 non-null  object        \n",
      " 2   userImage             21071 non-null  object        \n",
      " 3   content               21071 non-null  object        \n",
      " 4   score                 21071 non-null  int64         \n",
      " 5   thumbsUpCount         21071 non-null  int64         \n",
      " 6   reviewCreatedVersion  15627 non-null  object        \n",
      " 7   at                    21071 non-null  datetime64[ns]\n",
      " 8   replyContent          18478 non-null  object        \n",
      " 9   repliedAt             18478 non-null  datetime64[ns]\n",
      " 10  appVersion            15627 non-null  object        \n",
      "dtypes: datetime64[ns](2), int64(2), object(7)\n",
      "memory usage: 1.8+ MB\n"
     ]
    }
   ],
   "source": [
    "df.info()"
   ]
  },
  {
   "cell_type": "code",
   "execution_count": 6,
   "id": "2f07654d",
   "metadata": {},
   "outputs": [
    {
     "data": {
      "text/html": [
       "<div>\n",
       "<style scoped>\n",
       "    .dataframe tbody tr th:only-of-type {\n",
       "        vertical-align: middle;\n",
       "    }\n",
       "\n",
       "    .dataframe tbody tr th {\n",
       "        vertical-align: top;\n",
       "    }\n",
       "\n",
       "    .dataframe thead th {\n",
       "        text-align: right;\n",
       "    }\n",
       "</style>\n",
       "<table border=\"1\" class=\"dataframe\">\n",
       "  <thead>\n",
       "    <tr style=\"text-align: right;\">\n",
       "      <th></th>\n",
       "      <th>reviewId</th>\n",
       "      <th>userName</th>\n",
       "      <th>userImage</th>\n",
       "      <th>content</th>\n",
       "      <th>score</th>\n",
       "      <th>thumbsUpCount</th>\n",
       "      <th>reviewCreatedVersion</th>\n",
       "      <th>at</th>\n",
       "      <th>replyContent</th>\n",
       "      <th>repliedAt</th>\n",
       "      <th>appVersion</th>\n",
       "    </tr>\n",
       "  </thead>\n",
       "  <tbody>\n",
       "    <tr>\n",
       "      <th>0</th>\n",
       "      <td>32394922-251d-471d-a140-f4697939ef47</td>\n",
       "      <td>Pengguna Google</td>\n",
       "      <td>https://play-lh.googleusercontent.com/EGemoI2N...</td>\n",
       "      <td>Sakit bgt sebenarnya, aku tau peraturan. Tapi ...</td>\n",
       "      <td>1</td>\n",
       "      <td>12</td>\n",
       "      <td>2.20.02</td>\n",
       "      <td>2025-03-29 05:08:24</td>\n",
       "      <td>None</td>\n",
       "      <td>NaT</td>\n",
       "      <td>2.20.02</td>\n",
       "    </tr>\n",
       "    <tr>\n",
       "      <th>1</th>\n",
       "      <td>7723afaa-fe55-437f-b3a9-d5d85ac18b02</td>\n",
       "      <td>Pengguna Google</td>\n",
       "      <td>https://play-lh.googleusercontent.com/EGemoI2N...</td>\n",
       "      <td>ini gimana sih. sudah punya akun login susah a...</td>\n",
       "      <td>1</td>\n",
       "      <td>1</td>\n",
       "      <td>2.20.03</td>\n",
       "      <td>2025-03-28 11:31:03</td>\n",
       "      <td>Hai kurnia alamsyah, Mohon maaf untuk ketidakn...</td>\n",
       "      <td>2025-03-28 11:49:18</td>\n",
       "      <td>2.20.03</td>\n",
       "    </tr>\n",
       "    <tr>\n",
       "      <th>2</th>\n",
       "      <td>0ed27bd9-cefb-4c3a-8b43-32d9cf013ab6</td>\n",
       "      <td>Pengguna Google</td>\n",
       "      <td>https://play-lh.googleusercontent.com/EGemoI2N...</td>\n",
       "      <td>07-03-2025 Di saat butuh dihari ini, tidak bis...</td>\n",
       "      <td>1</td>\n",
       "      <td>15</td>\n",
       "      <td>2.20.03</td>\n",
       "      <td>2025-03-28 22:54:51</td>\n",
       "      <td>Hai Ali Umar, Mohon maaf untuk ketidaknyamanny...</td>\n",
       "      <td>2025-03-07 20:00:52</td>\n",
       "      <td>2.20.03</td>\n",
       "    </tr>\n",
       "    <tr>\n",
       "      <th>3</th>\n",
       "      <td>0cbc5ca6-5f68-4513-afc6-4c83e33be83f</td>\n",
       "      <td>Pengguna Google</td>\n",
       "      <td>https://play-lh.googleusercontent.com/EGemoI2N...</td>\n",
       "      <td>aplikasi sering tidak bisa dibuka, logout pun ...</td>\n",
       "      <td>2</td>\n",
       "      <td>0</td>\n",
       "      <td>2.20.03</td>\n",
       "      <td>2025-03-30 11:29:02</td>\n",
       "      <td>Hai Happy Blessed. Mohon maaf untuk ketidaknya...</td>\n",
       "      <td>2025-03-30 11:30:25</td>\n",
       "      <td>2.20.03</td>\n",
       "    </tr>\n",
       "    <tr>\n",
       "      <th>4</th>\n",
       "      <td>1374435e-e6fa-41e3-b3b7-a5a3f97fa056</td>\n",
       "      <td>Pengguna Google</td>\n",
       "      <td>https://play-lh.googleusercontent.com/EGemoI2N...</td>\n",
       "      <td>lg proses verifikasi malah gak bisa proses tol...</td>\n",
       "      <td>2</td>\n",
       "      <td>0</td>\n",
       "      <td>2.20.03</td>\n",
       "      <td>2025-04-10 06:26:57</td>\n",
       "      <td>Hai Yani Mulyani, Mohon maaf untuk ketidaknyam...</td>\n",
       "      <td>2025-04-10 08:09:49</td>\n",
       "      <td>2.20.03</td>\n",
       "    </tr>\n",
       "  </tbody>\n",
       "</table>\n",
       "</div>"
      ],
      "text/plain": [
       "                               reviewId         userName  \\\n",
       "0  32394922-251d-471d-a140-f4697939ef47  Pengguna Google   \n",
       "1  7723afaa-fe55-437f-b3a9-d5d85ac18b02  Pengguna Google   \n",
       "2  0ed27bd9-cefb-4c3a-8b43-32d9cf013ab6  Pengguna Google   \n",
       "3  0cbc5ca6-5f68-4513-afc6-4c83e33be83f  Pengguna Google   \n",
       "4  1374435e-e6fa-41e3-b3b7-a5a3f97fa056  Pengguna Google   \n",
       "\n",
       "                                           userImage  \\\n",
       "0  https://play-lh.googleusercontent.com/EGemoI2N...   \n",
       "1  https://play-lh.googleusercontent.com/EGemoI2N...   \n",
       "2  https://play-lh.googleusercontent.com/EGemoI2N...   \n",
       "3  https://play-lh.googleusercontent.com/EGemoI2N...   \n",
       "4  https://play-lh.googleusercontent.com/EGemoI2N...   \n",
       "\n",
       "                                             content  score  thumbsUpCount  \\\n",
       "0  Sakit bgt sebenarnya, aku tau peraturan. Tapi ...      1             12   \n",
       "1  ini gimana sih. sudah punya akun login susah a...      1              1   \n",
       "2  07-03-2025 Di saat butuh dihari ini, tidak bis...      1             15   \n",
       "3  aplikasi sering tidak bisa dibuka, logout pun ...      2              0   \n",
       "4  lg proses verifikasi malah gak bisa proses tol...      2              0   \n",
       "\n",
       "  reviewCreatedVersion                  at  \\\n",
       "0              2.20.02 2025-03-29 05:08:24   \n",
       "1              2.20.03 2025-03-28 11:31:03   \n",
       "2              2.20.03 2025-03-28 22:54:51   \n",
       "3              2.20.03 2025-03-30 11:29:02   \n",
       "4              2.20.03 2025-04-10 06:26:57   \n",
       "\n",
       "                                        replyContent           repliedAt  \\\n",
       "0                                               None                 NaT   \n",
       "1  Hai kurnia alamsyah, Mohon maaf untuk ketidakn... 2025-03-28 11:49:18   \n",
       "2  Hai Ali Umar, Mohon maaf untuk ketidaknyamanny... 2025-03-07 20:00:52   \n",
       "3  Hai Happy Blessed. Mohon maaf untuk ketidaknya... 2025-03-30 11:30:25   \n",
       "4  Hai Yani Mulyani, Mohon maaf untuk ketidaknyam... 2025-04-10 08:09:49   \n",
       "\n",
       "  appVersion  \n",
       "0    2.20.02  \n",
       "1    2.20.03  \n",
       "2    2.20.03  \n",
       "3    2.20.03  \n",
       "4    2.20.03  "
      ]
     },
     "execution_count": 6,
     "metadata": {},
     "output_type": "execute_result"
    }
   ],
   "source": [
    "df.head()"
   ]
  }
 ],
 "metadata": {
  "kernelspec": {
   "display_name": "Python 3",
   "language": "python",
   "name": "python3"
  },
  "language_info": {
   "codemirror_mode": {
    "name": "ipython",
    "version": 3
   },
   "file_extension": ".py",
   "mimetype": "text/x-python",
   "name": "python",
   "nbconvert_exporter": "python",
   "pygments_lexer": "ipython3",
   "version": "3.12.7"
  }
 },
 "nbformat": 4,
 "nbformat_minor": 5
}
