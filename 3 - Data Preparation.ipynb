{
 "cells": [
  {
   "cell_type": "markdown",
   "id": "ee5685e7",
   "metadata": {},
   "source": [
    "# Import Libraries\n"
   ]
  },
  {
   "cell_type": "code",
   "execution_count": 1,
   "id": "91a831aa",
   "metadata": {},
   "outputs": [],
   "source": [
    "import pickle\n",
    "import numpy as np\n",
    "import pandas as pd\n",
    "from sklearn.model_selection import train_test_split\n",
    "from sklearn.preprocessing import OneHotEncoder\n",
    "from tensorflow.keras.preprocessing.sequence import pad_sequences\n",
    "from tensorflow.keras.preprocessing.text import Tokenizer"
   ]
  },
  {
   "cell_type": "markdown",
   "id": "f1908dbe",
   "metadata": {},
   "source": [
    "# Load Dataset\n"
   ]
  },
  {
   "cell_type": "code",
   "execution_count": 16,
   "id": "0b208618",
   "metadata": {},
   "outputs": [],
   "source": [
    "df = pd.read_pickle(\"./processed_objects/app_review_labeled.pkl\")"
   ]
  },
  {
   "cell_type": "code",
   "execution_count": 17,
   "id": "d9215175",
   "metadata": {},
   "outputs": [
    {
     "name": "stdout",
     "output_type": "stream",
     "text": [
      "<class 'pandas.core.frame.DataFrame'>\n",
      "RangeIndex: 13631 entries, 0 to 13630\n",
      "Data columns (total 15 columns):\n",
      " #   Column                Non-Null Count  Dtype \n",
      "---  ------                --------------  ----- \n",
      " 0   reviewId              13631 non-null  object\n",
      " 1   userName              13631 non-null  object\n",
      " 2   userImage             13631 non-null  object\n",
      " 3   content               13631 non-null  object\n",
      " 4   score                 13631 non-null  int64 \n",
      " 5   thumbsUpCount         13631 non-null  int64 \n",
      " 6   reviewCreatedVersion  13631 non-null  object\n",
      " 7   at                    13631 non-null  object\n",
      " 8   replyContent          13631 non-null  object\n",
      " 9   repliedAt             13631 non-null  object\n",
      " 10  appVersion            13631 non-null  object\n",
      " 11  content_en            13631 non-null  object\n",
      " 12  cleaned_content_en    13631 non-null  object\n",
      " 13  Stanford Score        13631 non-null  object\n",
      " 14  Stanford Label        13631 non-null  object\n",
      "dtypes: int64(2), object(13)\n",
      "memory usage: 1.6+ MB\n"
     ]
    }
   ],
   "source": [
    "df.info()"
   ]
  },
  {
   "cell_type": "code",
   "execution_count": 18,
   "id": "a8d2b469",
   "metadata": {},
   "outputs": [
    {
     "data": {
      "text/html": [
       "<div>\n",
       "<style scoped>\n",
       "    .dataframe tbody tr th:only-of-type {\n",
       "        vertical-align: middle;\n",
       "    }\n",
       "\n",
       "    .dataframe tbody tr th {\n",
       "        vertical-align: top;\n",
       "    }\n",
       "\n",
       "    .dataframe thead th {\n",
       "        text-align: right;\n",
       "    }\n",
       "</style>\n",
       "<table border=\"1\" class=\"dataframe\">\n",
       "  <thead>\n",
       "    <tr style=\"text-align: right;\">\n",
       "      <th></th>\n",
       "      <th>cleaned_content_en</th>\n",
       "      <th>Stanford Label</th>\n",
       "    </tr>\n",
       "  </thead>\n",
       "  <tbody>\n",
       "    <tr>\n",
       "      <th>0</th>\n",
       "      <td>already difficult login account tried week man...</td>\n",
       "      <td>Negative</td>\n",
       "    </tr>\n",
       "    <tr>\n",
       "      <th>1</th>\n",
       "      <td>need day application opened used even though w...</td>\n",
       "      <td>Negative</td>\n",
       "    </tr>\n",
       "    <tr>\n",
       "      <th>2</th>\n",
       "      <td>application often opened logouts sometimes ret...</td>\n",
       "      <td>Negative</td>\n",
       "    </tr>\n",
       "    <tr>\n",
       "      <th>3</th>\n",
       "      <td>already paid even bolt continuously dkira pay ...</td>\n",
       "      <td>Negative</td>\n",
       "    </tr>\n",
       "    <tr>\n",
       "      <th>4</th>\n",
       "      <td>open bond investment portfolio always horror s...</td>\n",
       "      <td>Negative</td>\n",
       "    </tr>\n",
       "    <tr>\n",
       "      <th>...</th>\n",
       "      <td>...</td>\n",
       "      <td>...</td>\n",
       "    </tr>\n",
       "    <tr>\n",
       "      <th>13626</th>\n",
       "      <td>since last month never logged oppo f always fa...</td>\n",
       "      <td>Negative</td>\n",
       "    </tr>\n",
       "    <tr>\n",
       "      <th>13627</th>\n",
       "      <td>please help application</td>\n",
       "      <td>Positive</td>\n",
       "    </tr>\n",
       "    <tr>\n",
       "      <th>13628</th>\n",
       "      <td>try see first</td>\n",
       "      <td>Neutral</td>\n",
       "    </tr>\n",
       "    <tr>\n",
       "      <th>13629</th>\n",
       "      <td>good</td>\n",
       "      <td>Positive</td>\n",
       "    </tr>\n",
       "    <tr>\n",
       "      <th>13630</th>\n",
       "      <td>bad still many system obstacle often cut</td>\n",
       "      <td>Negative</td>\n",
       "    </tr>\n",
       "  </tbody>\n",
       "</table>\n",
       "<p>13631 rows × 2 columns</p>\n",
       "</div>"
      ],
      "text/plain": [
       "                                      cleaned_content_en Stanford Label\n",
       "0      already difficult login account tried week man...       Negative\n",
       "1      need day application opened used even though w...       Negative\n",
       "2      application often opened logouts sometimes ret...       Negative\n",
       "3      already paid even bolt continuously dkira pay ...       Negative\n",
       "4      open bond investment portfolio always horror s...       Negative\n",
       "...                                                  ...            ...\n",
       "13626  since last month never logged oppo f always fa...       Negative\n",
       "13627                            please help application       Positive\n",
       "13628                                      try see first        Neutral\n",
       "13629                                               good       Positive\n",
       "13630           bad still many system obstacle often cut       Negative\n",
       "\n",
       "[13631 rows x 2 columns]"
      ]
     },
     "execution_count": 18,
     "metadata": {},
     "output_type": "execute_result"
    }
   ],
   "source": [
    "features_df = df.loc[:, [\"cleaned_content_en\", \"Stanford Label\"]]\n",
    "features_df"
   ]
  },
  {
   "cell_type": "code",
   "execution_count": 19,
   "id": "5cbd2515",
   "metadata": {},
   "outputs": [],
   "source": [
    "features_df = features_df.astype({\n",
    "    \"cleaned_content_en\": \"string\",\n",
    "    \"Stanford Label\": \"string\"\n",
    "})"
   ]
  },
  {
   "cell_type": "code",
   "execution_count": 20,
   "id": "4592d6fd",
   "metadata": {},
   "outputs": [
    {
     "data": {
      "text/html": [
       "<div>\n",
       "<style scoped>\n",
       "    .dataframe tbody tr th:only-of-type {\n",
       "        vertical-align: middle;\n",
       "    }\n",
       "\n",
       "    .dataframe tbody tr th {\n",
       "        vertical-align: top;\n",
       "    }\n",
       "\n",
       "    .dataframe thead th {\n",
       "        text-align: right;\n",
       "    }\n",
       "</style>\n",
       "<table border=\"1\" class=\"dataframe\">\n",
       "  <thead>\n",
       "    <tr style=\"text-align: right;\">\n",
       "      <th></th>\n",
       "      <th>cleaned_content_en</th>\n",
       "      <th>Stanford Label</th>\n",
       "    </tr>\n",
       "  </thead>\n",
       "  <tbody>\n",
       "    <tr>\n",
       "      <th>0</th>\n",
       "      <td>already difficult login account tried week man...</td>\n",
       "      <td>Negative</td>\n",
       "    </tr>\n",
       "    <tr>\n",
       "      <th>1</th>\n",
       "      <td>need day application opened used even though w...</td>\n",
       "      <td>Negative</td>\n",
       "    </tr>\n",
       "    <tr>\n",
       "      <th>2</th>\n",
       "      <td>application often opened logouts sometimes ret...</td>\n",
       "      <td>Negative</td>\n",
       "    </tr>\n",
       "    <tr>\n",
       "      <th>3</th>\n",
       "      <td>already paid even bolt continuously dkira pay ...</td>\n",
       "      <td>Negative</td>\n",
       "    </tr>\n",
       "    <tr>\n",
       "      <th>4</th>\n",
       "      <td>open bond investment portfolio always horror s...</td>\n",
       "      <td>Negative</td>\n",
       "    </tr>\n",
       "    <tr>\n",
       "      <th>...</th>\n",
       "      <td>...</td>\n",
       "      <td>...</td>\n",
       "    </tr>\n",
       "    <tr>\n",
       "      <th>13626</th>\n",
       "      <td>since last month never logged oppo f always fa...</td>\n",
       "      <td>Negative</td>\n",
       "    </tr>\n",
       "    <tr>\n",
       "      <th>13627</th>\n",
       "      <td>please help application</td>\n",
       "      <td>Positive</td>\n",
       "    </tr>\n",
       "    <tr>\n",
       "      <th>13628</th>\n",
       "      <td>try see first</td>\n",
       "      <td>Neutral</td>\n",
       "    </tr>\n",
       "    <tr>\n",
       "      <th>13629</th>\n",
       "      <td>good</td>\n",
       "      <td>Positive</td>\n",
       "    </tr>\n",
       "    <tr>\n",
       "      <th>13630</th>\n",
       "      <td>bad still many system obstacle often cut</td>\n",
       "      <td>Negative</td>\n",
       "    </tr>\n",
       "  </tbody>\n",
       "</table>\n",
       "<p>13631 rows × 2 columns</p>\n",
       "</div>"
      ],
      "text/plain": [
       "                                      cleaned_content_en Stanford Label\n",
       "0      already difficult login account tried week man...       Negative\n",
       "1      need day application opened used even though w...       Negative\n",
       "2      application often opened logouts sometimes ret...       Negative\n",
       "3      already paid even bolt continuously dkira pay ...       Negative\n",
       "4      open bond investment portfolio always horror s...       Negative\n",
       "...                                                  ...            ...\n",
       "13626  since last month never logged oppo f always fa...       Negative\n",
       "13627                            please help application       Positive\n",
       "13628                                      try see first        Neutral\n",
       "13629                                               good       Positive\n",
       "13630           bad still many system obstacle often cut       Negative\n",
       "\n",
       "[13631 rows x 2 columns]"
      ]
     },
     "execution_count": 20,
     "metadata": {},
     "output_type": "execute_result"
    }
   ],
   "source": [
    "features_df"
   ]
  },
  {
   "cell_type": "code",
   "execution_count": 21,
   "id": "505c8679",
   "metadata": {},
   "outputs": [
    {
     "name": "stdout",
     "output_type": "stream",
     "text": [
      "<class 'pandas.core.frame.DataFrame'>\n",
      "RangeIndex: 13631 entries, 0 to 13630\n",
      "Data columns (total 2 columns):\n",
      " #   Column              Non-Null Count  Dtype \n",
      "---  ------              --------------  ----- \n",
      " 0   cleaned_content_en  13631 non-null  string\n",
      " 1   Stanford Label      13631 non-null  string\n",
      "dtypes: string(2)\n",
      "memory usage: 213.1 KB\n"
     ]
    }
   ],
   "source": [
    "features_df.info()"
   ]
  },
  {
   "cell_type": "markdown",
   "id": "d32b2a4b",
   "metadata": {},
   "source": [
    "# Helper Functions\n"
   ]
  },
  {
   "cell_type": "code",
   "execution_count": null,
   "id": "c20c8367",
   "metadata": {},
   "outputs": [],
   "source": [
    "stanford_Labels = {\n",
    "    \"Negative\": \"Neg\",\n",
    "    \"Neutral\": \"Neu\",\n",
    "    \"Positive\": \"Pos\",\n",
    "    \"Verynegative\": \"VNeg\",\n",
    "    \"Verypositive\": \"VPos\",\n",
    "}\n",
    "\n",
    "\n",
    "def label_encoding(series):\n",
    "    one_hot_encoder = OneHotEncoder(sparse_output=False)\n",
    "    df = one_hot_encoder.fit_transform(series.to_frame())\n",
    "    return df"
   ]
  },
  {
   "cell_type": "code",
   "execution_count": 24,
   "id": "d528d840",
   "metadata": {},
   "outputs": [],
   "source": [
    "df.loc[:, 'Content Length'] = df['cleaned_content_en'].astype(\n",
    "    str).apply(lambda x: len(x.split(\" \")))"
   ]
  },
  {
   "cell_type": "code",
   "execution_count": 25,
   "id": "e5f27766",
   "metadata": {},
   "outputs": [
    {
     "data": {
      "text/plain": [
       "<Axes: >"
      ]
     },
     "execution_count": 25,
     "metadata": {},
     "output_type": "execute_result"
    },
    {
     "data": {
      "image/png": "[encoded data removed]",
      "text/plain": [
       "<Figure size 640x480 with 1 Axes>"
      ]
     },
     "metadata": {},
     "output_type": "display_data"
    }
   ],
   "source": [
    "df['Content Length'].plot(kind='box')"
   ]
  },
  {
   "cell_type": "markdown",
   "id": "0592ffad",
   "metadata": {},
   "source": [
    "# Split the Data\n"
   ]
  },
  {
   "cell_type": "code",
   "execution_count": 26,
   "id": "bd27f892",
   "metadata": {},
   "outputs": [],
   "source": [
    "features_df.loc[:, \"Stanford Label\"] = features_df.loc[:,\n",
    "                                                       \"Stanford Label\"].map(stanford_Labels)"
   ]
  },
  {
   "cell_type": "code",
   "execution_count": 27,
   "id": "2b8c53a8",
   "metadata": {},
   "outputs": [
    {
     "data": {
      "text/html": [
       "<div>\n",
       "<style scoped>\n",
       "    .dataframe tbody tr th:only-of-type {\n",
       "        vertical-align: middle;\n",
       "    }\n",
       "\n",
       "    .dataframe tbody tr th {\n",
       "        vertical-align: top;\n",
       "    }\n",
       "\n",
       "    .dataframe thead th {\n",
       "        text-align: right;\n",
       "    }\n",
       "</style>\n",
       "<table border=\"1\" class=\"dataframe\">\n",
       "  <thead>\n",
       "    <tr style=\"text-align: right;\">\n",
       "      <th></th>\n",
       "      <th>cleaned_content_en</th>\n",
       "      <th>Stanford Label</th>\n",
       "    </tr>\n",
       "  </thead>\n",
       "  <tbody>\n",
       "    <tr>\n",
       "      <th>0</th>\n",
       "      <td>already difficult login account tried week man...</td>\n",
       "      <td>Neg</td>\n",
       "    </tr>\n",
       "    <tr>\n",
       "      <th>1</th>\n",
       "      <td>need day application opened used even though w...</td>\n",
       "      <td>Neg</td>\n",
       "    </tr>\n",
       "    <tr>\n",
       "      <th>2</th>\n",
       "      <td>application often opened logouts sometimes ret...</td>\n",
       "      <td>Neg</td>\n",
       "    </tr>\n",
       "    <tr>\n",
       "      <th>3</th>\n",
       "      <td>already paid even bolt continuously dkira pay ...</td>\n",
       "      <td>Neg</td>\n",
       "    </tr>\n",
       "    <tr>\n",
       "      <th>4</th>\n",
       "      <td>open bond investment portfolio always horror s...</td>\n",
       "      <td>Neg</td>\n",
       "    </tr>\n",
       "  </tbody>\n",
       "</table>\n",
       "</div>"
      ],
      "text/plain": [
       "                                  cleaned_content_en Stanford Label\n",
       "0  already difficult login account tried week man...            Neg\n",
       "1  need day application opened used even though w...            Neg\n",
       "2  application often opened logouts sometimes ret...            Neg\n",
       "3  already paid even bolt continuously dkira pay ...            Neg\n",
       "4  open bond investment portfolio always horror s...            Neg"
      ]
     },
     "execution_count": 27,
     "metadata": {},
     "output_type": "execute_result"
    }
   ],
   "source": [
    "features_df.head()"
   ]
  },
  {
   "cell_type": "code",
   "execution_count": 28,
   "id": "92ab3c20",
   "metadata": {},
   "outputs": [],
   "source": [
    "train_df, test_df = train_test_split(\n",
    "    features_df,\n",
    "    test_size=0.2,\n",
    "    stratify=features_df[\"Stanford Label\"],\n",
    "    random_state=42\n",
    ")"
   ]
  },
  {
   "cell_type": "code",
   "execution_count": 29,
   "id": "033b0d50",
   "metadata": {},
   "outputs": [],
   "source": [
    "train_df, val_df = train_test_split(\n",
    "    train_df,\n",
    "    test_size=(2/9),\n",
    "    stratify=train_df['Stanford Label'],\n",
    "    random_state=42\n",
    ")"
   ]
  },
  {
   "cell_type": "markdown",
   "id": "917cffb7",
   "metadata": {},
   "source": [
    "# Label Encoding\n"
   ]
  },
  {
   "cell_type": "code",
   "execution_count": 30,
   "id": "2f9c234a",
   "metadata": {},
   "outputs": [],
   "source": [
    "X_train = train_df[\"cleaned_content_en\"]\n",
    "X_test = test_df[\"cleaned_content_en\"]\n",
    "X_val = val_df[\"cleaned_content_en\"]"
   ]
  },
  {
   "cell_type": "code",
   "execution_count": 31,
   "id": "05b4955d",
   "metadata": {},
   "outputs": [],
   "source": [
    "Y_train = label_encoding(\n",
    "    train_df.loc[:, 'Stanford Label']\n",
    ")\n",
    "\n",
    "Y_val = label_encoding(\n",
    "    val_df.loc[:, 'Stanford Label']\n",
    ")\n",
    "\n",
    "Y_test = label_encoding(\n",
    "    test_df.loc[:, 'Stanford Label']\n",
    ")"
   ]
  },
  {
   "cell_type": "code",
   "execution_count": null,
   "id": "0c46eb54",
   "metadata": {},
   "outputs": [
    {
     "data": {
      "text/plain": [
       "array([[0., 1., 0., 0., 0.],\n",
       "       [0., 1., 0., 0., 0.],\n",
       "       [0., 0., 1., 0., 0.],\n",
       "       ...,\n",
       "       [1., 0., 0., 0., 0.],\n",
       "       [1., 0., 0., 0., 0.],\n",
       "       [0., 0., 1., 0., 0.]])"
      ]
     },
     "execution_count": 34,
     "metadata": {},
     "output_type": "execute_result"
    }
   ],
   "source": [
    "one_hot_encoder = OneHotEncoder(sparse_output=False)\n",
    "one_hot_encoder.fit_transform(train_df['Stanford Label'].to_frame())"
   ]
  },
  {
   "cell_type": "markdown",
   "id": "761f6df8",
   "metadata": {},
   "source": [
    "# Data Preparation for Neural Network\n"
   ]
  },
  {
   "cell_type": "code",
   "execution_count": 17,
   "id": "7a57cfbe",
   "metadata": {},
   "outputs": [],
   "source": [
    "sentences = [sentence.split() for sentence in X_train]"
   ]
  },
  {
   "cell_type": "code",
   "execution_count": 18,
   "id": "e3c3f729",
   "metadata": {},
   "outputs": [],
   "source": [
    "oov_token = \"<OOV>\"\n",
    "padding_type = 'post'\n",
    "trunc_type = 'post'"
   ]
  },
  {
   "cell_type": "code",
   "execution_count": 19,
   "id": "97aa53b0",
   "metadata": {},
   "outputs": [],
   "source": [
    "tokenizer = Tokenizer(oov_token=oov_token)\n",
    "tokenizer.fit_on_texts(sentences)\n",
    "\n",
    "train_sequences = tokenizer.texts_to_sequences(X_train.tolist())\n",
    "val_sequences = tokenizer.texts_to_sequences(X_val.tolist())\n",
    "test_sequences = tokenizer.texts_to_sequences(X_test.tolist())\n",
    "\n",
    "train_data = pad_sequences(\n",
    "    train_sequences, truncating=trunc_type, padding='post').astype(float, copy=False)\n",
    "val_data = pad_sequences(val_sequences, truncating=trunc_type,\n",
    "                         padding='post').astype(float, copy=False)\n",
    "test_data = pad_sequences(\n",
    "    test_sequences, truncating=trunc_type, padding='post').astype(float, copy=False)"
   ]
  },
  {
   "cell_type": "markdown",
   "id": "808a5bfd",
   "metadata": {},
   "source": [
    "# Save Prepared Data\n"
   ]
  },
  {
   "cell_type": "code",
   "execution_count": 21,
   "id": "415b9551",
   "metadata": {},
   "outputs": [],
   "source": [
    "with open('./processed_objects/features_data.npy', 'wb') as file:\n",
    "    np.save(file, train_data)\n",
    "    np.save(file, val_data)\n",
    "    np.save(file, test_data)\n",
    "\n",
    "with open('./processed_objects/target_data.npy', 'wb') as file:\n",
    "    np.save(file, Y_train)\n",
    "    np.save(file, Y_val)\n",
    "    np.save(file, Y_test)\n",
    "\n",
    "with open('./processed_objects/training_corpus.pkl', 'wb') as file:\n",
    "    pickle.dump(sentences, file)\n",
    "\n",
    "with open('./processed_objects/word_index.pkl', 'wb') as file:\n",
    "    pickle.dump(tokenizer.word_index, file)"
   ]
  }
 ],
 "metadata": {
  "kernelspec": {
   "display_name": "Python 3",
   "language": "python",
   "name": "python3"
  },
  "language_info": {
   "codemirror_mode": {
    "name": "ipython",
    "version": 3
   },
   "file_extension": ".py",
   "mimetype": "text/x-python",
   "name": "python",
   "nbconvert_exporter": "python",
   "pygments_lexer": "ipython3",
   "version": "3.12.7"
  }
 },
 "nbformat": 4,
 "nbformat_minor": 5
}
