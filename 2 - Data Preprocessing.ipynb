{
 "cells": [
  {
   "cell_type": "markdown",
   "id": "301b917b",
   "metadata": {},
   "source": [
    "# Install Dependencies\n"
   ]
  },
  {
   "cell_type": "code",
   "execution_count": null,
   "id": "919edb09",
   "metadata": {},
   "outputs": [
    {
     "name": "stdout",
     "output_type": "stream",
     "text": [
      "Requirement already satisfied: googletrans in c:\\users\\lenovo\\appdata\\local\\programs\\python\\python312\\lib\\site-packages (4.0.2)\n",
      "Requirement already satisfied: emoji in c:\\users\\lenovo\\appdata\\local\\programs\\python\\python312\\lib\\site-packages (2.14.1)\n",
      "Requirement already satisfied: httpx>=0.27.2 in c:\\users\\lenovo\\appdata\\local\\programs\\python\\python312\\lib\\site-packages (from httpx[http2]>=0.27.2->googletrans) (0.28.1)\n",
      "Requirement already satisfied: anyio in c:\\users\\lenovo\\appdata\\local\\programs\\python\\python312\\lib\\site-packages (from httpx>=0.27.2->httpx[http2]>=0.27.2->googletrans) (4.9.0)\n",
      "Requirement already satisfied: certifi in c:\\users\\lenovo\\appdata\\local\\programs\\python\\python312\\lib\\site-packages (from httpx>=0.27.2->httpx[http2]>=0.27.2->googletrans) (2024.8.30)\n",
      "Requirement already satisfied: httpcore==1.* in c:\\users\\lenovo\\appdata\\local\\programs\\python\\python312\\lib\\site-packages (from httpx>=0.27.2->httpx[http2]>=0.27.2->googletrans) (1.0.7)\n",
      "Requirement already satisfied: idna in c:\\users\\lenovo\\appdata\\local\\programs\\python\\python312\\lib\\site-packages (from httpx>=0.27.2->httpx[http2]>=0.27.2->googletrans) (3.10)\n",
      "Requirement already satisfied: h11<0.15,>=0.13 in c:\\users\\lenovo\\appdata\\local\\programs\\python\\python312\\lib\\site-packages (from httpcore==1.*->httpx>=0.27.2->httpx[http2]>=0.27.2->googletrans) (0.14.0)\n",
      "Requirement already satisfied: h2<5,>=3 in c:\\users\\lenovo\\appdata\\local\\programs\\python\\python312\\lib\\site-packages (from httpx[http2]>=0.27.2->googletrans) (4.2.0)\n",
      "Requirement already satisfied: hyperframe<7,>=6.1 in c:\\users\\lenovo\\appdata\\local\\programs\\python\\python312\\lib\\site-packages (from h2<5,>=3->httpx[http2]>=0.27.2->googletrans) (6.1.0)\n",
      "Requirement already satisfied: hpack<5,>=4.1 in c:\\users\\lenovo\\appdata\\local\\programs\\python\\python312\\lib\\site-packages (from h2<5,>=3->httpx[http2]>=0.27.2->googletrans) (4.1.0)\n",
      "Requirement already satisfied: sniffio>=1.1 in c:\\users\\lenovo\\appdata\\local\\programs\\python\\python312\\lib\\site-packages (from anyio->httpx>=0.27.2->httpx[http2]>=0.27.2->googletrans) (1.3.1)\n",
      "Requirement already satisfied: typing_extensions>=4.5 in c:\\users\\lenovo\\appdata\\local\\programs\\python\\python312\\lib\\site-packages (from anyio->httpx>=0.27.2->httpx[http2]>=0.27.2->googletrans) (4.12.2)\n"
     ]
    }
   ],
   "source": [
    "!pip install googletrans emoji pycorenlp"
   ]
  },
  {
   "cell_type": "markdown",
   "id": "83d1f2a5",
   "metadata": {},
   "source": [
    "# Import Libraries\n"
   ]
  },
  {
   "cell_type": "code",
   "execution_count": null,
   "id": "8d87ecd9",
   "metadata": {},
   "outputs": [],
   "source": [
    "import json\n",
    "import pickle\n",
    "import re\n",
    "import string\n",
    "import emoji\n",
    "import nltk\n",
    "import pandas as pd\n",
    "from googletrans import Translator\n",
    "from pycorenlp import StanfordCoreNLP\n",
    "from nltk.corpus import stopwords\n",
    "from nltk.stem import WordNetLemmatizer\n",
    "from nltk.tokenize import word_tokenize"
   ]
  },
  {
   "cell_type": "code",
   "execution_count": 3,
   "id": "a164d986",
   "metadata": {},
   "outputs": [
    {
     "name": "stderr",
     "output_type": "stream",
     "text": [
      "[nltk_data] Downloading package punkt to\n",
      "[nltk_data]     C:\\Users\\LENOVO\\AppData\\Roaming\\nltk_data...\n",
      "[nltk_data]   Package punkt is already up-to-date!\n",
      "[nltk_data] Downloading package stopwords to\n",
      "[nltk_data]     C:\\Users\\LENOVO\\AppData\\Roaming\\nltk_data...\n",
      "[nltk_data]   Package stopwords is already up-to-date!\n",
      "[nltk_data] Downloading package wordnet to\n",
      "[nltk_data]     C:\\Users\\LENOVO\\AppData\\Roaming\\nltk_data...\n",
      "[nltk_data]   Package wordnet is already up-to-date!\n"
     ]
    },
    {
     "data": {
      "text/plain": [
       "True"
      ]
     },
     "execution_count": 3,
     "metadata": {},
     "output_type": "execute_result"
    }
   ],
   "source": [
    "nltk.download('punkt')\n",
    "nltk.download('stopwords')\n",
    "nltk.download('wordnet')"
   ]
  },
  {
   "cell_type": "markdown",
   "id": "059b578d",
   "metadata": {},
   "source": [
    "# Load Dataset\n"
   ]
  },
  {
   "cell_type": "code",
   "execution_count": 2,
   "id": "b14087c2",
   "metadata": {},
   "outputs": [],
   "source": [
    "df = pd.read_csv(\"./app_review.csv\")"
   ]
  },
  {
   "cell_type": "code",
   "execution_count": 3,
   "id": "932f4116",
   "metadata": {},
   "outputs": [
    {
     "data": {
      "text/html": [
       "<div>\n",
       "<style scoped>\n",
       "    .dataframe tbody tr th:only-of-type {\n",
       "        vertical-align: middle;\n",
       "    }\n",
       "\n",
       "    .dataframe tbody tr th {\n",
       "        vertical-align: top;\n",
       "    }\n",
       "\n",
       "    .dataframe thead th {\n",
       "        text-align: right;\n",
       "    }\n",
       "</style>\n",
       "<table border=\"1\" class=\"dataframe\">\n",
       "  <thead>\n",
       "    <tr style=\"text-align: right;\">\n",
       "      <th></th>\n",
       "      <th>reviewId</th>\n",
       "      <th>userName</th>\n",
       "      <th>userImage</th>\n",
       "      <th>content</th>\n",
       "      <th>score</th>\n",
       "      <th>thumbsUpCount</th>\n",
       "      <th>reviewCreatedVersion</th>\n",
       "      <th>at</th>\n",
       "      <th>replyContent</th>\n",
       "      <th>repliedAt</th>\n",
       "      <th>appVersion</th>\n",
       "    </tr>\n",
       "  </thead>\n",
       "  <tbody>\n",
       "    <tr>\n",
       "      <th>0</th>\n",
       "      <td>32394922-251d-471d-a140-f4697939ef47</td>\n",
       "      <td>Pengguna Google</td>\n",
       "      <td>https://play-lh.googleusercontent.com/EGemoI2N...</td>\n",
       "      <td>Sakit bgt sebenarnya, aku tau peraturan. Tapi ...</td>\n",
       "      <td>1</td>\n",
       "      <td>10</td>\n",
       "      <td>2.20.02</td>\n",
       "      <td>2025-03-29 05:08:24</td>\n",
       "      <td>NaN</td>\n",
       "      <td>NaN</td>\n",
       "      <td>2.20.02</td>\n",
       "    </tr>\n",
       "    <tr>\n",
       "      <th>1</th>\n",
       "      <td>7723afaa-fe55-437f-b3a9-d5d85ac18b02</td>\n",
       "      <td>Pengguna Google</td>\n",
       "      <td>https://play-lh.googleusercontent.com/EGemoI2N...</td>\n",
       "      <td>ini gimana sih. sudah punya akun login susah a...</td>\n",
       "      <td>1</td>\n",
       "      <td>1</td>\n",
       "      <td>2.20.03</td>\n",
       "      <td>2025-03-28 11:31:03</td>\n",
       "      <td>Hai kurnia alamsyah, Mohon maaf untuk ketidakn...</td>\n",
       "      <td>2025-03-28 11:49:18</td>\n",
       "      <td>2.20.03</td>\n",
       "    </tr>\n",
       "    <tr>\n",
       "      <th>2</th>\n",
       "      <td>0ed27bd9-cefb-4c3a-8b43-32d9cf013ab6</td>\n",
       "      <td>Pengguna Google</td>\n",
       "      <td>https://play-lh.googleusercontent.com/EGemoI2N...</td>\n",
       "      <td>07-03-2025 Di saat butuh dihari ini, tidak bis...</td>\n",
       "      <td>1</td>\n",
       "      <td>14</td>\n",
       "      <td>2.20.03</td>\n",
       "      <td>2025-03-28 22:54:51</td>\n",
       "      <td>Hai Ali Umar, Mohon maaf untuk ketidaknyamanny...</td>\n",
       "      <td>2025-03-07 20:00:52</td>\n",
       "      <td>2.20.03</td>\n",
       "    </tr>\n",
       "    <tr>\n",
       "      <th>3</th>\n",
       "      <td>0cbc5ca6-5f68-4513-afc6-4c83e33be83f</td>\n",
       "      <td>Pengguna Google</td>\n",
       "      <td>https://play-lh.googleusercontent.com/EGemoI2N...</td>\n",
       "      <td>aplikasi sering tidak bisa dibuka, logout pun ...</td>\n",
       "      <td>2</td>\n",
       "      <td>0</td>\n",
       "      <td>2.20.03</td>\n",
       "      <td>2025-03-30 11:29:02</td>\n",
       "      <td>Hai Happy Blessed. Mohon maaf untuk ketidaknya...</td>\n",
       "      <td>2025-03-30 11:30:25</td>\n",
       "      <td>2.20.03</td>\n",
       "    </tr>\n",
       "    <tr>\n",
       "      <th>4</th>\n",
       "      <td>56bbc0c1-d469-45d3-888e-aaa00efe5387</td>\n",
       "      <td>Pengguna Google</td>\n",
       "      <td>https://play-lh.googleusercontent.com/EGemoI2N...</td>\n",
       "      <td>Sudah bayar malah d tagih terus. Dkira ga baya...</td>\n",
       "      <td>1</td>\n",
       "      <td>11</td>\n",
       "      <td>2.20.02</td>\n",
       "      <td>2025-03-20 23:57:10</td>\n",
       "      <td>Hai Jelita Jentik. Mohon maaf untuk ketidaknya...</td>\n",
       "      <td>2025-02-05 07:59:01</td>\n",
       "      <td>2.20.02</td>\n",
       "    </tr>\n",
       "  </tbody>\n",
       "</table>\n",
       "</div>"
      ],
      "text/plain": [
       "                               reviewId         userName  \\\n",
       "0  32394922-251d-471d-a140-f4697939ef47  Pengguna Google   \n",
       "1  7723afaa-fe55-437f-b3a9-d5d85ac18b02  Pengguna Google   \n",
       "2  0ed27bd9-cefb-4c3a-8b43-32d9cf013ab6  Pengguna Google   \n",
       "3  0cbc5ca6-5f68-4513-afc6-4c83e33be83f  Pengguna Google   \n",
       "4  56bbc0c1-d469-45d3-888e-aaa00efe5387  Pengguna Google   \n",
       "\n",
       "                                           userImage  \\\n",
       "0  https://play-lh.googleusercontent.com/EGemoI2N...   \n",
       "1  https://play-lh.googleusercontent.com/EGemoI2N...   \n",
       "2  https://play-lh.googleusercontent.com/EGemoI2N...   \n",
       "3  https://play-lh.googleusercontent.com/EGemoI2N...   \n",
       "4  https://play-lh.googleusercontent.com/EGemoI2N...   \n",
       "\n",
       "                                             content  score  thumbsUpCount  \\\n",
       "0  Sakit bgt sebenarnya, aku tau peraturan. Tapi ...      1             10   \n",
       "1  ini gimana sih. sudah punya akun login susah a...      1              1   \n",
       "2  07-03-2025 Di saat butuh dihari ini, tidak bis...      1             14   \n",
       "3  aplikasi sering tidak bisa dibuka, logout pun ...      2              0   \n",
       "4  Sudah bayar malah d tagih terus. Dkira ga baya...      1             11   \n",
       "\n",
       "  reviewCreatedVersion                   at  \\\n",
       "0              2.20.02  2025-03-29 05:08:24   \n",
       "1              2.20.03  2025-03-28 11:31:03   \n",
       "2              2.20.03  2025-03-28 22:54:51   \n",
       "3              2.20.03  2025-03-30 11:29:02   \n",
       "4              2.20.02  2025-03-20 23:57:10   \n",
       "\n",
       "                                        replyContent            repliedAt  \\\n",
       "0                                                NaN                  NaN   \n",
       "1  Hai kurnia alamsyah, Mohon maaf untuk ketidakn...  2025-03-28 11:49:18   \n",
       "2  Hai Ali Umar, Mohon maaf untuk ketidaknyamanny...  2025-03-07 20:00:52   \n",
       "3  Hai Happy Blessed. Mohon maaf untuk ketidaknya...  2025-03-30 11:30:25   \n",
       "4  Hai Jelita Jentik. Mohon maaf untuk ketidaknya...  2025-02-05 07:59:01   \n",
       "\n",
       "  appVersion  \n",
       "0    2.20.02  \n",
       "1    2.20.03  \n",
       "2    2.20.03  \n",
       "3    2.20.03  \n",
       "4    2.20.02  "
      ]
     },
     "execution_count": 3,
     "metadata": {},
     "output_type": "execute_result"
    }
   ],
   "source": [
    "df.head()"
   ]
  },
  {
   "cell_type": "code",
   "execution_count": 4,
   "id": "69a727af",
   "metadata": {},
   "outputs": [
    {
     "name": "stdout",
     "output_type": "stream",
     "text": [
      "<class 'pandas.core.frame.DataFrame'>\n",
      "RangeIndex: 21074 entries, 0 to 21073\n",
      "Data columns (total 11 columns):\n",
      " #   Column                Non-Null Count  Dtype \n",
      "---  ------                --------------  ----- \n",
      " 0   reviewId              21074 non-null  object\n",
      " 1   userName              21074 non-null  object\n",
      " 2   userImage             21074 non-null  object\n",
      " 3   content               21074 non-null  object\n",
      " 4   score                 21074 non-null  int64 \n",
      " 5   thumbsUpCount         21074 non-null  int64 \n",
      " 6   reviewCreatedVersion  15629 non-null  object\n",
      " 7   at                    21074 non-null  object\n",
      " 8   replyContent          18481 non-null  object\n",
      " 9   repliedAt             18481 non-null  object\n",
      " 10  appVersion            15629 non-null  object\n",
      "dtypes: int64(2), object(9)\n",
      "memory usage: 1.8+ MB\n"
     ]
    }
   ],
   "source": [
    "df.info()"
   ]
  },
  {
   "cell_type": "markdown",
   "id": "d2bd31e7",
   "metadata": {},
   "source": [
    "# Data Wrangling\n"
   ]
  },
  {
   "cell_type": "code",
   "execution_count": 17,
   "id": "90d918eb",
   "metadata": {},
   "outputs": [],
   "source": [
    "async def translate_text(text):\n",
    "    translator = Translator(service_urls=['translate.googleapis.com'])\n",
    "    translated = await translator.translate(text, src='id', dest='en')\n",
    "    return translated.text"
   ]
  },
  {
   "cell_type": "code",
   "execution_count": null,
   "id": "fb14b430",
   "metadata": {},
   "outputs": [],
   "source": [
    "for index, row in df.iterrows():\n",
    "    translated_content = await translate_text(row['content'])\n",
    "    translated_replyContent = await translate_text(row['replyContent'])\n",
    "\n",
    "    df.loc[index, 'content_en'] = translated_content\n",
    "    df.loc[index, 'replyContent_en'] = translated_replyContent"
   ]
  },
  {
   "cell_type": "code",
   "execution_count": 20,
   "id": "596ccd0a",
   "metadata": {},
   "outputs": [],
   "source": [
    "df.to_csv(\"./app_review_translated.csv\")"
   ]
  },
  {
   "cell_type": "markdown",
   "id": "11612ba6",
   "metadata": {},
   "source": [
    "# Data Cleaning\n"
   ]
  },
  {
   "cell_type": "markdown",
   "id": "03f14ec3",
   "metadata": {},
   "source": [
    "## Helper Function\n"
   ]
  },
  {
   "cell_type": "code",
   "execution_count": 4,
   "id": "54077486",
   "metadata": {},
   "outputs": [],
   "source": [
    "def casefold(text):\n",
    "    return text.lower()\n",
    "\n",
    "\n",
    "def replace_punctuations(text):\n",
    "    punctuations = set(string.punctuation)\n",
    "    for char in text:\n",
    "        if char in punctuations:\n",
    "            text = text.replace(char, ' ')\n",
    "    return text\n",
    "\n",
    "\n",
    "def clear_emoji(text):\n",
    "    return emoji.replace_emoji(text, ' ')\n",
    "\n",
    "\n",
    "def tokenize_text(text):\n",
    "    text = word_tokenize(text)\n",
    "    return text\n",
    "\n",
    "\n",
    "def lemmatize_tokens(word_tokens, word_lemmatizer):\n",
    "    lemmatized_tokens = [word_lemmatizer.lemmatize(\n",
    "        word) for word in word_tokens]\n",
    "    return lemmatized_tokens\n",
    "\n",
    "\n",
    "def remove_stopwords(word_tokens, stopwords_set):\n",
    "    text = ' '.join(\n",
    "        [word for word in word_tokens if word not in stopwords_set])\n",
    "    text = text.strip()\n",
    "    return text\n",
    "\n",
    "\n",
    "lemmatizer = WordNetLemmatizer()\n",
    "stopwords_English = set(stopwords.words('english'))\n",
    "\n",
    "\n",
    "def complete_clean(text):\n",
    "    text = clear_emoji(text)\n",
    "    text = casefold(text)\n",
    "    text = re.sub(r'[0-9]+', ' ', text)\n",
    "    text = text.replace(\"'\", \"'\")\n",
    "    text = text.replace(\"’\", \"'\")\n",
    "    text = text.replace(\"´\", \"'\")\n",
    "    text = text.replace(\"-\", \" \")\n",
    "    text = text.replace('\\n', ' ')\n",
    "    text = re.sub(r'[^a-zA-Z0-9\\s]', ' ', text)\n",
    "    text = replace_punctuations(text)\n",
    "    text = tokenize_text(text)\n",
    "    text = lemmatize_tokens(text, word_lemmatizer=lemmatizer)\n",
    "    text = remove_stopwords(text, stopwords_English)\n",
    "    text = text.strip()\n",
    "    return text"
   ]
  },
  {
   "cell_type": "markdown",
   "id": "ff5553a8",
   "metadata": {},
   "source": [
    "## Clean Data\n"
   ]
  },
  {
   "cell_type": "code",
   "execution_count": 11,
   "id": "2e51ae97",
   "metadata": {},
   "outputs": [],
   "source": [
    "df_processed = pd.read_csv(\"./app_review_translated.csv\", index_col=0)"
   ]
  },
  {
   "cell_type": "code",
   "execution_count": 12,
   "id": "54661867",
   "metadata": {},
   "outputs": [
    {
     "data": {
      "text/html": [
       "<div>\n",
       "<style scoped>\n",
       "    .dataframe tbody tr th:only-of-type {\n",
       "        vertical-align: middle;\n",
       "    }\n",
       "\n",
       "    .dataframe tbody tr th {\n",
       "        vertical-align: top;\n",
       "    }\n",
       "\n",
       "    .dataframe thead th {\n",
       "        text-align: right;\n",
       "    }\n",
       "</style>\n",
       "<table border=\"1\" class=\"dataframe\">\n",
       "  <thead>\n",
       "    <tr style=\"text-align: right;\">\n",
       "      <th></th>\n",
       "      <th>reviewId</th>\n",
       "      <th>userName</th>\n",
       "      <th>userImage</th>\n",
       "      <th>content</th>\n",
       "      <th>score</th>\n",
       "      <th>thumbsUpCount</th>\n",
       "      <th>reviewCreatedVersion</th>\n",
       "      <th>at</th>\n",
       "      <th>replyContent</th>\n",
       "      <th>repliedAt</th>\n",
       "      <th>appVersion</th>\n",
       "      <th>content_en</th>\n",
       "      <th>replyContent_en</th>\n",
       "    </tr>\n",
       "  </thead>\n",
       "  <tbody>\n",
       "    <tr>\n",
       "      <th>0</th>\n",
       "      <td>32394922-251d-471d-a140-f4697939ef47</td>\n",
       "      <td>Pengguna Google</td>\n",
       "      <td>https://play-lh.googleusercontent.com/EGemoI2N...</td>\n",
       "      <td>Sakit bgt sebenarnya, aku tau peraturan. Tapi ...</td>\n",
       "      <td>1</td>\n",
       "      <td>10</td>\n",
       "      <td>2.20.02</td>\n",
       "      <td>2025-03-29 05:08:24</td>\n",
       "      <td>NaN</td>\n",
       "      <td>NaN</td>\n",
       "      <td>2.20.02</td>\n",
       "      <td>Really sick, I know the rules. But cook to tol...</td>\n",
       "      <td>Nan</td>\n",
       "    </tr>\n",
       "    <tr>\n",
       "      <th>1</th>\n",
       "      <td>7723afaa-fe55-437f-b3a9-d5d85ac18b02</td>\n",
       "      <td>Pengguna Google</td>\n",
       "      <td>https://play-lh.googleusercontent.com/EGemoI2N...</td>\n",
       "      <td>ini gimana sih. sudah punya akun login susah a...</td>\n",
       "      <td>1</td>\n",
       "      <td>1</td>\n",
       "      <td>2.20.03</td>\n",
       "      <td>2025-03-28 11:31:03</td>\n",
       "      <td>Hai kurnia alamsyah, Mohon maaf untuk ketidakn...</td>\n",
       "      <td>2025-03-28 11:49:18</td>\n",
       "      <td>2.20.03</td>\n",
       "      <td>What is this. Already have a very difficult lo...</td>\n",
       "      <td>Hi Kurnia Alamsyah, apologize for the discomfo...</td>\n",
       "    </tr>\n",
       "    <tr>\n",
       "      <th>2</th>\n",
       "      <td>0ed27bd9-cefb-4c3a-8b43-32d9cf013ab6</td>\n",
       "      <td>Pengguna Google</td>\n",
       "      <td>https://play-lh.googleusercontent.com/EGemoI2N...</td>\n",
       "      <td>07-03-2025 Di saat butuh dihari ini, tidak bis...</td>\n",
       "      <td>1</td>\n",
       "      <td>14</td>\n",
       "      <td>2.20.03</td>\n",
       "      <td>2025-03-28 22:54:51</td>\n",
       "      <td>Hai Ali Umar, Mohon maaf untuk ketidaknyamanny...</td>\n",
       "      <td>2025-03-07 20:00:52</td>\n",
       "      <td>2.20.03</td>\n",
       "      <td>07-03-2025 When you need this day, the applica...</td>\n",
       "      <td>Hi Ali Umar, apologize for the inconvenience. ...</td>\n",
       "    </tr>\n",
       "    <tr>\n",
       "      <th>3</th>\n",
       "      <td>0cbc5ca6-5f68-4513-afc6-4c83e33be83f</td>\n",
       "      <td>Pengguna Google</td>\n",
       "      <td>https://play-lh.googleusercontent.com/EGemoI2N...</td>\n",
       "      <td>aplikasi sering tidak bisa dibuka, logout pun ...</td>\n",
       "      <td>2</td>\n",
       "      <td>0</td>\n",
       "      <td>2.20.03</td>\n",
       "      <td>2025-03-30 11:29:02</td>\n",
       "      <td>Hai Happy Blessed. Mohon maaf untuk ketidaknya...</td>\n",
       "      <td>2025-03-30 11:30:25</td>\n",
       "      <td>2.20.03</td>\n",
       "      <td>Applications often cannot be opened, logouts s...</td>\n",
       "      <td>Hi happy blessed. Sorry for the inconvenience....</td>\n",
       "    </tr>\n",
       "    <tr>\n",
       "      <th>4</th>\n",
       "      <td>56bbc0c1-d469-45d3-888e-aaa00efe5387</td>\n",
       "      <td>Pengguna Google</td>\n",
       "      <td>https://play-lh.googleusercontent.com/EGemoI2N...</td>\n",
       "      <td>Sudah bayar malah d tagih terus. Dkira ga baya...</td>\n",
       "      <td>1</td>\n",
       "      <td>11</td>\n",
       "      <td>2.20.02</td>\n",
       "      <td>2025-03-20 23:57:10</td>\n",
       "      <td>Hai Jelita Jentik. Mohon maaf untuk ketidaknya...</td>\n",
       "      <td>2025-02-05 07:59:01</td>\n",
       "      <td>2.20.02</td>\n",
       "      <td>Already paid even d bolt continuously. Dkira d...</td>\n",
       "      <td>Hi, Jentic. Sorry for the inconvenience. Curre...</td>\n",
       "    </tr>\n",
       "  </tbody>\n",
       "</table>\n",
       "</div>"
      ],
      "text/plain": [
       "                               reviewId         userName  \\\n",
       "0  32394922-251d-471d-a140-f4697939ef47  Pengguna Google   \n",
       "1  7723afaa-fe55-437f-b3a9-d5d85ac18b02  Pengguna Google   \n",
       "2  0ed27bd9-cefb-4c3a-8b43-32d9cf013ab6  Pengguna Google   \n",
       "3  0cbc5ca6-5f68-4513-afc6-4c83e33be83f  Pengguna Google   \n",
       "4  56bbc0c1-d469-45d3-888e-aaa00efe5387  Pengguna Google   \n",
       "\n",
       "                                           userImage  \\\n",
       "0  https://play-lh.googleusercontent.com/EGemoI2N...   \n",
       "1  https://play-lh.googleusercontent.com/EGemoI2N...   \n",
       "2  https://play-lh.googleusercontent.com/EGemoI2N...   \n",
       "3  https://play-lh.googleusercontent.com/EGemoI2N...   \n",
       "4  https://play-lh.googleusercontent.com/EGemoI2N...   \n",
       "\n",
       "                                             content  score  thumbsUpCount  \\\n",
       "0  Sakit bgt sebenarnya, aku tau peraturan. Tapi ...      1             10   \n",
       "1  ini gimana sih. sudah punya akun login susah a...      1              1   \n",
       "2  07-03-2025 Di saat butuh dihari ini, tidak bis...      1             14   \n",
       "3  aplikasi sering tidak bisa dibuka, logout pun ...      2              0   \n",
       "4  Sudah bayar malah d tagih terus. Dkira ga baya...      1             11   \n",
       "\n",
       "  reviewCreatedVersion                   at  \\\n",
       "0              2.20.02  2025-03-29 05:08:24   \n",
       "1              2.20.03  2025-03-28 11:31:03   \n",
       "2              2.20.03  2025-03-28 22:54:51   \n",
       "3              2.20.03  2025-03-30 11:29:02   \n",
       "4              2.20.02  2025-03-20 23:57:10   \n",
       "\n",
       "                                        replyContent            repliedAt  \\\n",
       "0                                                NaN                  NaN   \n",
       "1  Hai kurnia alamsyah, Mohon maaf untuk ketidakn...  2025-03-28 11:49:18   \n",
       "2  Hai Ali Umar, Mohon maaf untuk ketidaknyamanny...  2025-03-07 20:00:52   \n",
       "3  Hai Happy Blessed. Mohon maaf untuk ketidaknya...  2025-03-30 11:30:25   \n",
       "4  Hai Jelita Jentik. Mohon maaf untuk ketidaknya...  2025-02-05 07:59:01   \n",
       "\n",
       "  appVersion                                         content_en  \\\n",
       "0    2.20.02  Really sick, I know the rules. But cook to tol...   \n",
       "1    2.20.03  What is this. Already have a very difficult lo...   \n",
       "2    2.20.03  07-03-2025 When you need this day, the applica...   \n",
       "3    2.20.03  Applications often cannot be opened, logouts s...   \n",
       "4    2.20.02  Already paid even d bolt continuously. Dkira d...   \n",
       "\n",
       "                                     replyContent_en  \n",
       "0                                                Nan  \n",
       "1  Hi Kurnia Alamsyah, apologize for the discomfo...  \n",
       "2  Hi Ali Umar, apologize for the inconvenience. ...  \n",
       "3  Hi happy blessed. Sorry for the inconvenience....  \n",
       "4  Hi, Jentic. Sorry for the inconvenience. Curre...  "
      ]
     },
     "execution_count": 12,
     "metadata": {},
     "output_type": "execute_result"
    }
   ],
   "source": [
    "df_processed.head()"
   ]
  },
  {
   "cell_type": "code",
   "execution_count": 13,
   "id": "a1886637",
   "metadata": {},
   "outputs": [
    {
     "name": "stdout",
     "output_type": "stream",
     "text": [
      "<class 'pandas.core.frame.DataFrame'>\n",
      "Index: 21074 entries, 0 to 21073\n",
      "Data columns (total 13 columns):\n",
      " #   Column                Non-Null Count  Dtype \n",
      "---  ------                --------------  ----- \n",
      " 0   reviewId              21074 non-null  object\n",
      " 1   userName              21074 non-null  object\n",
      " 2   userImage             21074 non-null  object\n",
      " 3   content               21074 non-null  object\n",
      " 4   score                 21074 non-null  int64 \n",
      " 5   thumbsUpCount         21074 non-null  int64 \n",
      " 6   reviewCreatedVersion  15629 non-null  object\n",
      " 7   at                    21074 non-null  object\n",
      " 8   replyContent          18481 non-null  object\n",
      " 9   repliedAt             18481 non-null  object\n",
      " 10  appVersion            15629 non-null  object\n",
      " 11  content_en            21074 non-null  object\n",
      " 12  replyContent_en       21074 non-null  object\n",
      "dtypes: int64(2), object(11)\n",
      "memory usage: 2.3+ MB\n"
     ]
    }
   ],
   "source": [
    "df_processed.info()"
   ]
  },
  {
   "cell_type": "code",
   "execution_count": null,
   "id": "74e5d1ba",
   "metadata": {},
   "outputs": [],
   "source": [
    "df_processed.dropna(axis=0, inplace=True)\n",
    "df_processed.drop_duplicates(inplace=True)\n",
    "df_processed.reset_index(drop=True, inplace=True)\n",
    "df_processed.drop(columns=\"replyContent_en\", inplace=True)\n",
    "df_processed.loc[:, 'cleaned_content_en'] = df_processed.loc[:,\n",
    "                                                             'content_en'].apply(complete_clean)"
   ]
  },
  {
   "cell_type": "code",
   "execution_count": 16,
   "id": "830cfdc1",
   "metadata": {},
   "outputs": [
    {
     "name": "stdout",
     "output_type": "stream",
     "text": [
      "<class 'pandas.core.frame.DataFrame'>\n",
      "RangeIndex: 13631 entries, 0 to 13630\n",
      "Data columns (total 13 columns):\n",
      " #   Column                Non-Null Count  Dtype \n",
      "---  ------                --------------  ----- \n",
      " 0   reviewId              13631 non-null  object\n",
      " 1   userName              13631 non-null  object\n",
      " 2   userImage             13631 non-null  object\n",
      " 3   content               13631 non-null  object\n",
      " 4   score                 13631 non-null  int64 \n",
      " 5   thumbsUpCount         13631 non-null  int64 \n",
      " 6   reviewCreatedVersion  13631 non-null  object\n",
      " 7   at                    13631 non-null  object\n",
      " 8   replyContent          13631 non-null  object\n",
      " 9   repliedAt             13631 non-null  object\n",
      " 10  appVersion            13631 non-null  object\n",
      " 11  content_en            13631 non-null  object\n",
      " 12  cleaned_content_en    13631 non-null  object\n",
      "dtypes: int64(2), object(11)\n",
      "memory usage: 1.4+ MB\n"
     ]
    }
   ],
   "source": [
    "df_processed.info()"
   ]
  },
  {
   "cell_type": "markdown",
   "id": "ae3af8f8",
   "metadata": {},
   "source": [
    "# Data Labeling\n"
   ]
  },
  {
   "cell_type": "markdown",
   "id": "0342be18",
   "metadata": {},
   "source": [
    "## Setup StanfordNLP\n"
   ]
  },
  {
   "cell_type": "code",
   "execution_count": 3,
   "id": "08c53028",
   "metadata": {},
   "outputs": [
    {
     "name": "stdout",
     "output_type": "stream",
     "text": [
      "\n",
      "Saved under stanford-corenlp-full-2018-10-05 (1).zip\n",
      "\n",
      "Saved under stanford-english-corenlp-2018-10-05-models.jar\n",
      "Archive:  stanford-corenlp-full-2018-10-05.zip\n",
      "   creating: stanford-corenlp-full-2018-10-05/\n",
      "  inflating: stanford-corenlp-full-2018-10-05/jaxb-core-2.3.0.1-sources.jar  \n",
      "  inflating: stanford-corenlp-full-2018-10-05/xom-1.2.10-src.jar  \n",
      "  inflating: stanford-corenlp-full-2018-10-05/CoreNLP-to-HTML.xsl  \n",
      "  inflating: stanford-corenlp-full-2018-10-05/README.txt  \n",
      "  inflating: stanford-corenlp-full-2018-10-05/jollyday-0.4.9-sources.jar  \n",
      "  inflating: stanford-corenlp-full-2018-10-05/LIBRARY-LICENSES  \n",
      "   creating: stanford-corenlp-full-2018-10-05/sutime/\n",
      "  inflating: stanford-corenlp-full-2018-10-05/sutime/british.sutime.txt  \n",
      "  inflating: stanford-corenlp-full-2018-10-05/sutime/defs.sutime.txt  \n",
      "  inflating: stanford-corenlp-full-2018-10-05/sutime/spanish.sutime.txt  \n",
      "  inflating: stanford-corenlp-full-2018-10-05/sutime/english.sutime.txt  \n",
      "  inflating: stanford-corenlp-full-2018-10-05/sutime/english.holidays.sutime.txt  \n",
      " extracting: stanford-corenlp-full-2018-10-05/ejml-0.23-src.zip  \n",
      "  inflating: stanford-corenlp-full-2018-10-05/input.txt.xml  \n",
      "  inflating: stanford-corenlp-full-2018-10-05/build.xml  \n",
      "  inflating: stanford-corenlp-full-2018-10-05/pom.xml  \n",
      "  inflating: stanford-corenlp-full-2018-10-05/stanford-corenlp-3.9.2-javadoc.jar  \n",
      "   creating: stanford-corenlp-full-2018-10-05/tokensregex/\n",
      "  inflating: stanford-corenlp-full-2018-10-05/tokensregex/color.input.txt  \n",
      "  inflating: stanford-corenlp-full-2018-10-05/tokensregex/retokenize.txt  \n",
      "  inflating: stanford-corenlp-full-2018-10-05/tokensregex/color.properties  \n",
      "  inflating: stanford-corenlp-full-2018-10-05/tokensregex/color.rules.txt  \n",
      "  inflating: stanford-corenlp-full-2018-10-05/javax.json-api-1.0-sources.jar  \n",
      "  inflating: stanford-corenlp-full-2018-10-05/jaxb-api-2.4.0-b180830.0359-sources.jar  \n",
      "  inflating: stanford-corenlp-full-2018-10-05/stanford-corenlp-3.9.2-models.jar  \n",
      "  inflating: stanford-corenlp-full-2018-10-05/protobuf.jar  \n",
      "  inflating: stanford-corenlp-full-2018-10-05/javax.activation-api-1.2.0.jar  \n",
      "  inflating: stanford-corenlp-full-2018-10-05/StanfordDependenciesManual.pdf  \n",
      "   creating: stanford-corenlp-full-2018-10-05/patterns/\n",
      "  inflating: stanford-corenlp-full-2018-10-05/patterns/example.properties  \n",
      " extracting: stanford-corenlp-full-2018-10-05/patterns/otherpeople.txt  \n",
      " extracting: stanford-corenlp-full-2018-10-05/patterns/goldplaces.txt  \n",
      "  inflating: stanford-corenlp-full-2018-10-05/patterns/stopwords.txt  \n",
      "  inflating: stanford-corenlp-full-2018-10-05/patterns/presidents.txt  \n",
      "  inflating: stanford-corenlp-full-2018-10-05/patterns/names.txt  \n",
      " extracting: stanford-corenlp-full-2018-10-05/patterns/places.txt  \n",
      "  inflating: stanford-corenlp-full-2018-10-05/patterns/goldnames.txt  \n",
      "  inflating: stanford-corenlp-full-2018-10-05/slf4j-simple.jar  \n",
      "  inflating: stanford-corenlp-full-2018-10-05/stanford-corenlp-3.9.2-sources.jar  \n",
      "  inflating: stanford-corenlp-full-2018-10-05/input.txt  \n",
      "  inflating: stanford-corenlp-full-2018-10-05/joda-time.jar  \n",
      "  inflating: stanford-corenlp-full-2018-10-05/xom.jar  \n",
      "  inflating: stanford-corenlp-full-2018-10-05/jaxb-impl-2.4.0-b180830.0438-sources.jar  \n",
      "  inflating: stanford-corenlp-full-2018-10-05/StanfordCoreNlpDemo.java  \n",
      "  inflating: stanford-corenlp-full-2018-10-05/jaxb-core-2.3.0.1.jar  \n",
      "  inflating: stanford-corenlp-full-2018-10-05/RESOURCE-LICENSES  \n",
      "  inflating: stanford-corenlp-full-2018-10-05/javax.activation-api-1.2.0-sources.jar  \n",
      "  inflating: stanford-corenlp-full-2018-10-05/slf4j-api.jar  \n",
      "  inflating: stanford-corenlp-full-2018-10-05/pom-java-11.xml  \n",
      "  inflating: stanford-corenlp-full-2018-10-05/ejml-0.23.jar  \n",
      "  inflating: stanford-corenlp-full-2018-10-05/javax.json.jar  \n",
      "  inflating: stanford-corenlp-full-2018-10-05/Makefile  \n",
      "  inflating: stanford-corenlp-full-2018-10-05/corenlp.sh  \n",
      "  inflating: stanford-corenlp-full-2018-10-05/joda-time-2.9-sources.jar  \n",
      "  inflating: stanford-corenlp-full-2018-10-05/jaxb-api-2.4.0-b180830.0359.jar  \n",
      "  inflating: stanford-corenlp-full-2018-10-05/jollyday.jar  \n",
      "  inflating: stanford-corenlp-full-2018-10-05/ShiftReduceDemo.java  \n",
      "  inflating: stanford-corenlp-full-2018-10-05/jaxb-impl-2.4.0-b180830.0438.jar  \n",
      "  inflating: stanford-corenlp-full-2018-10-05/stanford-corenlp-3.9.2.jar  \n",
      "  inflating: stanford-corenlp-full-2018-10-05/SemgrexDemo.java  \n",
      "  inflating: stanford-corenlp-full-2018-10-05/LICENSE.txt  \n"
     ]
    }
   ],
   "source": [
    "!python -m wget \"https://nlp.stanford.edu/software/stanford-corenlp-full-2018-10-05.zip\"\n",
    "!python -m wget \"https://nlp.stanford.edu/software/stanford-english-corenlp-2018-10-05-models.jar\"\n",
    "!unzip \"stanford-corenlp-full-2018-10-05.zip\"\n",
    "!mv \"stanford-english-corenlp-2018-10-05-models.jar\" \"stanford-corenlp-full-2018-10-05\""
   ]
  },
  {
   "cell_type": "markdown",
   "id": "8f566ca8",
   "metadata": {},
   "source": [
    "Run this code in terminal to activate the Stanford Core NLP Server\n",
    "\n",
    "```bash\n",
    "cd stanford-corenlp-full-2018-10-05\n",
    "```\n",
    "\n",
    "```bash\n",
    "java -mx4g -cp \"*\" edu.stanford.nlp.pipeline.StanfordCoreNLPServer\n",
    "```\n"
   ]
  },
  {
   "cell_type": "code",
   "execution_count": 17,
   "id": "7737adfd",
   "metadata": {},
   "outputs": [],
   "source": [
    "coreNLP_Parser = StanfordCoreNLP('http://localhost:9000')"
   ]
  },
  {
   "cell_type": "code",
   "execution_count": null,
   "id": "c7f7ccc3",
   "metadata": {},
   "outputs": [],
   "source": [
    "def StanfordNLP_Label(dataframe, column, parser=coreNLP_Parser):\n",
    "    \"\"\" \n",
    "    This function returns labels from Very Negative (0) to Very Positive (1)\n",
    "    Batch process to circumvent coreNLP limit\n",
    "    \"\"\"\n",
    "    score = []\n",
    "    labels = []\n",
    "    column_Index = list(dataframe.columns).index(column)\n",
    "    dataframe_length = len(df_processed)\n",
    "    for starting_row in range(0, dataframe_length, 500):\n",
    "        ending_row = starting_row + 500\n",
    "        if ending_row >= dataframe_length:\n",
    "            ending_row = dataframe_length+1\n",
    "        result = json.loads(parser.annotate(\n",
    "            text=' . '.join(\n",
    "                dataframe.iloc[starting_row:ending_row, column_Index]),\n",
    "            properties={'annotators': 'sentiment', 'outputFormat': 'json'}\n",
    "        ))\n",
    "        score_result = [value['sentimentValue']\n",
    "                        for value in (result['sentences'])]\n",
    "        label_result = [value['sentiment'] for value in (result['sentences'])]\n",
    "        score.extend(score_result)\n",
    "        labels.extend(label_result)\n",
    "    return score, labels"
   ]
  },
  {
   "cell_type": "markdown",
   "id": "6f7ca436",
   "metadata": {},
   "source": [
    "## Labelling Data\n"
   ]
  },
  {
   "cell_type": "code",
   "execution_count": 19,
   "id": "17d4cdd0",
   "metadata": {},
   "outputs": [],
   "source": [
    "df_processed.loc[:, 'Stanford Score'], df_processed.loc[:,\n",
    "                                                        'Stanford Label'] = StanfordNLP_Label(df_processed, 'cleaned_content_en')"
   ]
  },
  {
   "cell_type": "code",
   "execution_count": 20,
   "id": "b295dd4d",
   "metadata": {},
   "outputs": [
    {
     "name": "stdout",
     "output_type": "stream",
     "text": [
      "<class 'pandas.core.frame.DataFrame'>\n",
      "RangeIndex: 13631 entries, 0 to 13630\n",
      "Data columns (total 15 columns):\n",
      " #   Column                Non-Null Count  Dtype \n",
      "---  ------                --------------  ----- \n",
      " 0   reviewId              13631 non-null  object\n",
      " 1   userName              13631 non-null  object\n",
      " 2   userImage             13631 non-null  object\n",
      " 3   content               13631 non-null  object\n",
      " 4   score                 13631 non-null  int64 \n",
      " 5   thumbsUpCount         13631 non-null  int64 \n",
      " 6   reviewCreatedVersion  13631 non-null  object\n",
      " 7   at                    13631 non-null  object\n",
      " 8   replyContent          13631 non-null  object\n",
      " 9   repliedAt             13631 non-null  object\n",
      " 10  appVersion            13631 non-null  object\n",
      " 11  content_en            13631 non-null  object\n",
      " 12  cleaned_content_en    13631 non-null  object\n",
      " 13  Stanford Score        13631 non-null  object\n",
      " 14  Stanford Label        13631 non-null  object\n",
      "dtypes: int64(2), object(13)\n",
      "memory usage: 1.6+ MB\n"
     ]
    }
   ],
   "source": [
    "df_processed.info()"
   ]
  },
  {
   "cell_type": "markdown",
   "id": "d415e6f6",
   "metadata": {},
   "source": [
    "# Saving Preprocessed Data\n"
   ]
  },
  {
   "cell_type": "code",
   "execution_count": 21,
   "id": "5652043e",
   "metadata": {},
   "outputs": [],
   "source": [
    "with open('./processed_objects/app_review_labeled.pkl', 'wb') as file:\n",
    "    pickle.dump(df_processed, file)"
   ]
  }
 ],
 "metadata": {
  "kernelspec": {
   "display_name": "Python 3",
   "language": "python",
   "name": "python3"
  },
  "language_info": {
   "codemirror_mode": {
    "name": "ipython",
    "version": 3
   },
   "file_extension": ".py",
   "mimetype": "text/x-python",
   "name": "python",
   "nbconvert_exporter": "python",
   "pygments_lexer": "ipython3",
   "version": "3.12.7"
  }
 },
 "nbformat": 4,
 "nbformat_minor": 5
}
